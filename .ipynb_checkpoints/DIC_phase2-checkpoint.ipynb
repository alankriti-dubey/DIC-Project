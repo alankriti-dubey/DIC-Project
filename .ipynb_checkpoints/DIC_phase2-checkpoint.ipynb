{
 "cells": [
  {
   "cell_type": "code",
   "execution_count": null,
   "id": "c8b51d56-be28-4b3a-a866-308abbdf109e",
   "metadata": {},
   "outputs": [],
   "source": [
    "# Importing required libraries\n",
    "import pandas as pd\n",
    "from sklearn.model_selection import train_test_split\n",
    "from sklearn.linear_model import LogisticRegression\n",
    "from sklearn.preprocessing import OrdinalEncoder\n",
    "from sklearn.metrics import confusion_matrix, precision_recall_curve, classification_report, accuracy_score\n",
    "from sklearn.model_selection import GridSearchCV"
   ]
  },
  {
   "cell_type": "code",
   "execution_count": null,
   "id": "b31d9e21-a007-4184-aa09-44852fd7c1bf",
   "metadata": {},
   "outputs": [],
   "source": [
    "# Reading CSV file \n",
    "url = 'preprocessed_diabetes.csv'\n",
    "df = pd.read_csv(url)"
   ]
  },
  {
   "cell_type": "code",
   "execution_count": null,
   "id": "61773dc0-373c-43af-bbb3-96b0a4e47c3f",
   "metadata": {},
   "outputs": [],
   "source": [
    "df.head()"
   ]
  },
  {
   "cell_type": "code",
   "execution_count": null,
   "id": "68edb1c3-37fb-45e1-8e94-21796a11bcfa",
   "metadata": {},
   "outputs": [],
   "source": [
    "df.columns"
   ]
  },
  {
   "cell_type": "code",
   "execution_count": null,
   "id": "5a96fde2-c429-4d10-9c81-89f001cf6e7c",
   "metadata": {},
   "outputs": [],
   "source": [
    "#### Encoding smoking history column\n",
    "encoder = OrdinalEncoder(categories=[['Never', 'Current', 'Former', 'Ever', 'Not current']])\n",
    "df['smoking_encoded'] = encoder.fit_transform(df[['smoking_history']])"
   ]
  },
  {
   "cell_type": "markdown",
   "id": "0e3a83b5-c67f-4abb-8aeb-b8d9772836ef",
   "metadata": {},
   "source": [
    "## 1. LOGISTIC REGRESSION"
   ]
  },
  {
   "cell_type": "markdown",
   "id": "4a494269-919e-4f38-a820-017946704ca9",
   "metadata": {},
   "source": [
    "#### Split the Data into training and test dataset"
   ]
  },
  {
   "cell_type": "code",
   "execution_count": null,
   "id": "8b1880f8-e843-4392-89d9-2ac75ec5f6b9",
   "metadata": {},
   "outputs": [],
   "source": [
    "# Seperating target and features\n",
    "X = df[['gender', 'age', 'hypertension', 'heart_disease', 'smoking_encoded', 'bmi', 'HbA1c_level', 'blood_glucose_level']]\n",
    "y = df[['diabetes']]\n",
    "\n",
    "X_train, X_test, y_train, y_test = train_test_split(X, y, test_size=0.2, random_state=42)"
   ]
  },
  {
   "cell_type": "markdown",
   "id": "cc2970f3-7b54-44fc-bd65-a19316ca68e4",
   "metadata": {},
   "source": [
    "#### Fitting the Logistic Regression Model"
   ]
  },
  {
   "cell_type": "code",
   "execution_count": null,
   "id": "ff09530d-95e6-4f22-975b-7ce388f616fa",
   "metadata": {},
   "outputs": [],
   "source": [
    "# Creating a logistic regression model\n",
    "model = LogisticRegression()\n",
    "\n",
    "# Fitting the model to the training data\n",
    "model.fit(X_train, y_train)"
   ]
  },
  {
   "cell_type": "markdown",
   "id": "48759b98-3e4b-4d20-b99c-c1e985586594",
   "metadata": {},
   "source": [
    "#### Making Predictions"
   ]
  },
  {
   "cell_type": "code",
   "execution_count": null,
   "id": "ebddd5ed-624e-493c-8836-524eccde3147",
   "metadata": {},
   "outputs": [],
   "source": [
    "y_pred = model.predict(X_test)"
   ]
  },
  {
   "cell_type": "code",
   "execution_count": null,
   "id": "fb7e5078-c882-422c-8ab2-805312a1019d",
   "metadata": {},
   "outputs": [],
   "source": [
    "# Probability for class 1\n",
    "y_prob = model.predict_proba(X_test)[:, 1]  "
   ]
  },
  {
   "cell_type": "markdown",
   "id": "1e46c779-ceee-4db7-aa53-bb86c5852355",
   "metadata": {},
   "source": [
    "#### Model Evaluation"
   ]
  },
  {
   "cell_type": "code",
   "execution_count": null,
   "id": "3b20d847-a001-4100-8270-d30aedbafa12",
   "metadata": {},
   "outputs": [],
   "source": [
    "accuracy = accuracy_score(y_test, y_pred)\n",
    "print(f\"Accuracy: {accuracy*100:.2f}\")"
   ]
  },
  {
   "cell_type": "markdown",
   "id": "7f586a52-3a8a-45c9-93f5-bd05b5360dab",
   "metadata": {},
   "source": [
    "#### Confusion Matrix"
   ]
  },
  {
   "cell_type": "code",
   "execution_count": null,
   "id": "bfeac619-e8cc-47f4-a6df-6f42b29cb379",
   "metadata": {},
   "outputs": [],
   "source": [
    "cm = confusion_matrix(y_test, y_pred)\n",
    "print(cm)"
   ]
  },
  {
   "cell_type": "markdown",
   "id": "cee18d6a-236b-496f-83b7-b8d223f4e827",
   "metadata": {
    "scrolled": true
   },
   "source": [
    "#### Precision and Recall Matrix"
   ]
  },
  {
   "cell_type": "code",
   "execution_count": null,
   "id": "d9e2be49-5a95-4348-b03c-e967b60c6cf3",
   "metadata": {},
   "outputs": [],
   "source": [
    "print(classification_report(y_test, y_pred))"
   ]
  },
  {
   "cell_type": "markdown",
   "id": "5c8f0c86-6ee1-4ebf-acd6-957d59f12a8e",
   "metadata": {},
   "source": [
    "#### Interpretation of Model Coefficients"
   ]
  },
  {
   "cell_type": "code",
   "execution_count": null,
   "id": "a2a453ea-156b-4305-b429-e378e19c9c26",
   "metadata": {
    "scrolled": true
   },
   "outputs": [],
   "source": [
    "# Model coefficients (weights)\n",
    "coefficients = model.coef_\n",
    "print(f\"Model Coefficients: {coefficients}\")"
   ]
  },
  {
   "cell_type": "markdown",
   "id": "7e72328f-ec69-4fb9-8514-e1bccd6d19fa",
   "metadata": {},
   "source": [
    "#### Tuning and Cross-Validation"
   ]
  },
  {
   "cell_type": "code",
   "execution_count": null,
   "id": "638f583a-891b-4f6f-be9c-7852fb1ba5d2",
   "metadata": {},
   "outputs": [],
   "source": [
    "param_grid = {'C': [0.01, 0.1, 1, 10, 100]}\n",
    "\n",
    "# Using GridSearchCV to search for the best parameters\n",
    "grid_search = GridSearchCV(LogisticRegression(), param_grid, cv=5)\n",
    "grid_search.fit(X_train, y_train)\n",
    "\n",
    "# Best hyperparameters\n",
    "print(grid_search.best_params_)\n"
   ]
  },
  {
   "cell_type": "markdown",
   "id": "40626b45-6abd-4431-a93d-89a7b3e4c941",
   "metadata": {},
   "source": [
    "## Visaulization"
   ]
  },
  {
   "cell_type": "markdown",
   "id": "a547677d-cfd3-49ed-95db-577cfaf89040",
   "metadata": {},
   "source": [
    "#### Confusion matrix"
   ]
  },
  {
   "cell_type": "code",
   "execution_count": null,
   "id": "4a7e2c5d-b3d5-42d1-a695-9c82dee0882b",
   "metadata": {
    "scrolled": true
   },
   "outputs": [],
   "source": [
    "plt.figure(figsize=(6, 4))\n",
    "sns.heatmap(cm, annot=True, fmt=\"d\", cmap=\"Blues\", xticklabels=[\"Negative\", \"Positive\"], yticklabels=[\"Negative\", \"Positive\"])\n",
    "plt.title('Confusion Matrix')\n",
    "plt.ylabel('Actual Label')\n",
    "plt.xlabel('Predicted Label')\n",
    "plt.show()"
   ]
  },
  {
   "cell_type": "markdown",
   "id": "fa109a67-6ecb-4191-8835-94b7dbf15241",
   "metadata": {},
   "source": [
    "#### Actual vs Predicted Values"
   ]
  },
  {
   "cell_type": "code",
   "execution_count": null,
   "id": "ed15ebc9-05ab-4b46-8cef-b95aac63d297",
   "metadata": {},
   "outputs": [],
   "source": [
    "plt.figure(figsize=(10, 5))\n",
    "plt.scatter(range(len(y_test)), y_test, color='blue', alpha=0.9, label='Actual Values')\n",
    "plt.scatter(range(len(y_test)), y_pred, color='orange', alpha=0.2, label='Predicted Values')\n",
    "plt.title('Actual vs Predicted Values (Logistic Regression)')\n",
    "plt.xlabel('Data Point Index')\n",
    "plt.ylabel('Class (0 or 1)')\n",
    "plt.legend()\n",
    "plt.grid(True)\n",
    "plt.show()\n"
   ]
  },
  {
   "cell_type": "markdown",
   "id": "033388ef-8766-4dec-8c41-1359eddbe563",
   "metadata": {},
   "source": [
    "#### Precision Recall vs Threshold"
   ]
  },
  {
   "cell_type": "code",
   "execution_count": null,
   "id": "7dff8a9a-1cb6-43d4-8036-2e8a65b91713",
   "metadata": {},
   "outputs": [],
   "source": [
    "# Computing precision, recall, and thresholds\n",
    "precision, recall, thresholds = precision_recall_curve(y_test, y_prob)\n",
    "\n",
    "# Plotting Precision-Recall vs Threshold\n",
    "plt.figure(figsize=(8, 6))\n",
    "plt.plot(thresholds, precision[:-1], label=\"Precision\", color=\"blue\")\n",
    "plt.plot(thresholds, recall[:-1], label=\"Recall\", color=\"orange\")\n",
    "plt.title('Precision and Recall vs Threshold')\n",
    "plt.xlabel('Decision Threshold')\n",
    "plt.ylabel('Score')\n",
    "plt.legend(loc=\"best\")\n",
    "plt.grid(True)\n",
    "plt.show()\n"
   ]
  },
  {
   "cell_type": "markdown",
   "id": "c141de19-1c70-4646-84ba-3f5a0324906a",
   "metadata": {},
   "source": [
    "## 2. Decision Tree"
   ]
  },
  {
   "cell_type": "code",
   "execution_count": null,
   "id": "85ee9988-b817-4006-a057-2a2a622f1064",
   "metadata": {},
   "outputs": [],
   "source": [
    "# Importing required libraries\n",
    "from sklearn.tree import DecisionTreeClassifier, plot_tree"
   ]
  },
  {
   "cell_type": "markdown",
   "id": "792fac61-9c79-489d-8862-260219f1240d",
   "metadata": {},
   "source": [
    "#### Training the model"
   ]
  },
  {
   "cell_type": "code",
   "execution_count": null,
   "id": "a798aa9b-ac19-4d8a-b3e8-8ce836344de3",
   "metadata": {},
   "outputs": [],
   "source": [
    "# Creating a Decision Tree Classifier\n",
    "dt_classifier = DecisionTreeClassifier(random_state=42)\n",
    "\n",
    "# Fitting the model on the training data\n",
    "dt_classifier.fit(X_train, y_train)"
   ]
  },
  {
   "cell_type": "markdown",
   "id": "1cdbcc60-c7eb-43c2-a9f5-e02cefe0d790",
   "metadata": {},
   "source": [
    "#### Predictions"
   ]
  },
  {
   "cell_type": "code",
   "execution_count": null,
   "id": "bdcc1ded-4d00-4005-bf5a-1a6dcecbfbf9",
   "metadata": {},
   "outputs": [],
   "source": [
    "# Making predictions on the test set\n",
    "y_pred = dt_classifier.predict(X_test)"
   ]
  },
  {
   "cell_type": "markdown",
   "id": "cd336a9a-5300-448d-b913-ca35d471eb9f",
   "metadata": {},
   "source": [
    "#### Model Evaluation"
   ]
  },
  {
   "cell_type": "code",
   "execution_count": null,
   "id": "871cf019-39ed-414a-b94b-2dca34cfd238",
   "metadata": {},
   "outputs": [],
   "source": [
    "# Calculate accuracy\n",
    "accuracy = accuracy_score(y_test, y_pred)\n",
    "print(f'Accuracy: {accuracy:.2f}')\n",
    "\n",
    "# Print classification report\n",
    "print(\"Classification Report:\")\n",
    "print(classification_report(y_test, y_pred))\n",
    "\n",
    "# Confusion Matrix\n",
    "conf_matrix = confusion_matrix(y_test, y_pred)\n",
    "print(\"Confusion Matrix: \",conf_matrix)"
   ]
  },
  {
   "cell_type": "markdown",
   "id": "6c9afa5f-7164-477d-a0a4-a6863399461a",
   "metadata": {},
   "source": [
    "## Visualization"
   ]
  },
  {
   "cell_type": "markdown",
   "id": "52a1fb90-480e-4b83-83b5-00199220a9e7",
   "metadata": {},
   "source": [
    "#### Confusion Matrix"
   ]
  },
  {
   "cell_type": "code",
   "execution_count": null,
   "id": "7d77125b-4fe2-4010-adf3-4a7f2c02de0f",
   "metadata": {},
   "outputs": [],
   "source": [
    "sns.heatmap(conf_matrix, annot=True, fmt='d', cmap='Blues', cbar=False, \n",
    "            xticklabels=['No Diabetes', 'Diabetes'], yticklabels=['No Diabetes', 'Diabetes'])\n",
    "plt.xlabel('Predicted')\n",
    "plt.ylabel('Actual')\n",
    "plt.title('Confusion Matrix')\n",
    "plt.show()"
   ]
  },
  {
   "cell_type": "markdown",
   "id": "2a84af24-f7d4-4958-9312-106ca12eb439",
   "metadata": {},
   "source": [
    "#### Trained Decision tree"
   ]
  },
  {
   "cell_type": "code",
   "execution_count": null,
   "id": "902d9920-da28-4600-ada2-12fdeb6c6e9a",
   "metadata": {},
   "outputs": [],
   "source": [
    "# Plot the decision tree\n",
    "plt.figure(figsize=(20, 10))\n",
    "plot_tree(dt_classifier, feature_names=X.columns, class_names=['No Diabetes', 'Diabetes'], filled=True)\n",
    "plt.title('Decision Tree Visualization')\n",
    "plt.show()"
   ]
  }
 ],
 "metadata": {
  "kernelspec": {
   "display_name": "Python 3 (ipykernel)",
   "language": "python",
   "name": "python3"
  },
  "language_info": {
   "codemirror_mode": {
    "name": "ipython",
    "version": 3
   },
   "file_extension": ".py",
   "mimetype": "text/x-python",
   "name": "python",
   "nbconvert_exporter": "python",
   "pygments_lexer": "ipython3",
   "version": "3.12.4"
  }
 },
 "nbformat": 4,
 "nbformat_minor": 5
}
