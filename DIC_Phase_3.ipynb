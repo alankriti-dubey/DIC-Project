{
  "nbformat": 4,
  "nbformat_minor": 0,
  "metadata": {
    "colab": {
      "provenance": [],
      "include_colab_link": true
    },
    "kernelspec": {
      "name": "python3",
      "display_name": "Python 3"
    },
    "language_info": {
      "name": "python"
    }
  },
  "cells": [
    {
      "cell_type": "markdown",
      "metadata": {
        "id": "view-in-github",
        "colab_type": "text"
      },
      "source": [
        "<a href=\"https://colab.research.google.com/github/alankriti-dubey/DIC-Project/blob/main/DIC_Phase_3.ipynb\" target=\"_parent\"><img src=\"https://colab.research.google.com/assets/colab-badge.svg\" alt=\"Open In Colab\"/></a>"
      ]
    },
    {
      "cell_type": "markdown",
      "source": [
        "## Importing Required Libraries"
      ],
      "metadata": {
        "id": "nvgmZdPVuj7K"
      }
    },
    {
      "cell_type": "code",
      "source": [
        "from pyspark.sql import SparkSession\n",
        "from pyspark.sql import functions as F\n",
        "from pyspark.sql.functions import col, expr, count, when, lit, initcap\n",
        "from pyspark.ml.feature import VectorAssembler, StandardScaler, StringIndexer\n",
        "from pyspark.ml.classification import LogisticRegression, DecisionTreeClassifier, RandomForestClassifier\n",
        "from pyspark.ml.evaluation import BinaryClassificationEvaluator, MulticlassClassificationEvaluator\n",
        "import pandas as pd\n",
        "import seaborn as sns\n",
        "import matplotlib.pyplot as plt"
      ],
      "metadata": {
        "id": "RWXGojL6uiYv"
      },
      "execution_count": null,
      "outputs": []
    },
    {
      "cell_type": "markdown",
      "source": [
        "## Creating Spark Session"
      ],
      "metadata": {
        "id": "If5dgh3-upBG"
      }
    },
    {
      "cell_type": "code",
      "execution_count": null,
      "metadata": {
        "id": "Y8PJmLh0zvsL"
      },
      "outputs": [],
      "source": [
        "\n",
        "# Stop any active Spark session\n",
        "active_session = SparkSession.getActiveSession()\n",
        "if active_session is not None:\n",
        "    active_session.stop()\n",
        "\n",
        "# Create a new Spark session\n",
        "spark = SparkSession.builder.appName(\"DiabetesPrediction\").getOrCreate()\n"
      ]
    },
    {
      "cell_type": "markdown",
      "source": [
        "## Reading dataset"
      ],
      "metadata": {
        "id": "vxL3sGsjwDrc"
      }
    },
    {
      "cell_type": "code",
      "source": [
        "# Read data from CSV file into a DataFrame\n",
        "df = spark.read.csv(\"diabetes_prediction_dataset.csv\", header=True, inferSchema=True)\n",
        "\n",
        "# Show the content of the DataFrame\n",
        "df.show()"
      ],
      "metadata": {
        "colab": {
          "base_uri": "https://localhost:8080/"
        },
        "id": "0l8SSTzb2-Ij",
        "outputId": "d85d21da-8314-47b9-a8e7-c501d3e0574b"
      },
      "execution_count": null,
      "outputs": [
        {
          "output_type": "stream",
          "name": "stdout",
          "text": [
            "+------+----+------------+-------------+---------------+-----+-----------+-------------------+--------+\n",
            "|gender| age|hypertension|heart_disease|smoking_history|  bmi|HbA1c_level|blood_glucose_level|diabetes|\n",
            "+------+----+------------+-------------+---------------+-----+-----------+-------------------+--------+\n",
            "|Female|80.0|           0|            1|          never|25.19|        6.6|                140|       0|\n",
            "|Female|54.0|           0|            0|        No Info|27.32|        6.6|                 80|       0|\n",
            "|  Male|28.0|           0|            0|          never|27.32|        5.7|                158|       0|\n",
            "|Female|36.0|           0|            0|        current|23.45|        5.0|                155|       0|\n",
            "|  Male|76.0|           1|            1|        current|20.14|        4.8|                155|       0|\n",
            "|Female|20.0|           0|            0|          never|27.32|        6.6|                 85|       0|\n",
            "|Female|44.0|           0|            0|          never|19.31|        6.5|                200|       1|\n",
            "|Female|79.0|           0|            0|        No Info|23.86|        5.7|                 85|       0|\n",
            "|  Male|42.0|           0|            0|          never|33.64|        4.8|                145|       0|\n",
            "|Female|32.0|           0|            0|          never|27.32|        5.0|                100|       0|\n",
            "|Female|53.0|           0|            0|          never|27.32|        6.1|                 85|       0|\n",
            "|Female|54.0|           0|            0|         former| 54.7|        6.0|                100|       0|\n",
            "|Female|78.0|           0|            0|         former|36.05|        5.0|                130|       0|\n",
            "|Female|67.0|           0|            0|          never|25.69|        5.8|                200|       0|\n",
            "|Female|76.0|           0|            0|        No Info|27.32|        5.0|                160|       0|\n",
            "|  Male|78.0|           0|            0|        No Info|27.32|        6.6|                126|       0|\n",
            "|  Male|15.0|           0|            0|          never|30.36|        6.1|                200|       0|\n",
            "|Female|42.0|           0|            0|          never|24.48|        5.7|                158|       0|\n",
            "|Female|42.0|           0|            0|        No Info|27.32|        5.7|                 80|       0|\n",
            "|  Male|37.0|           0|            0|           ever|25.72|        3.5|                159|       0|\n",
            "+------+----+------------+-------------+---------------+-----+-----------+-------------------+--------+\n",
            "only showing top 20 rows\n",
            "\n"
          ]
        }
      ]
    },
    {
      "cell_type": "markdown",
      "source": [
        "## Data Preprocessing\n"
      ],
      "metadata": {
        "id": "R9LXdK196tOu"
      }
    },
    {
      "cell_type": "markdown",
      "source": [
        "### 1. Dropping Duplicate Rows"
      ],
      "metadata": {
        "id": "nI1xdPH34S19"
      }
    },
    {
      "cell_type": "code",
      "source": [
        "# Drop duplicate rows\n",
        "df = df.dropDuplicates()\n",
        "\n",
        "# Show the count of records after dropping duplicates\n",
        "print(f\"Number of records after dropping duplicates: {df.count()}\")"
      ],
      "metadata": {
        "id": "Mzye3jId3Vj8",
        "colab": {
          "base_uri": "https://localhost:8080/"
        },
        "outputId": "cf6ad80a-9575-4ada-ac69-9d5f11d48f56"
      },
      "execution_count": null,
      "outputs": [
        {
          "output_type": "stream",
          "name": "stdout",
          "text": [
            "Number of records after dropping duplicates: 96146\n"
          ]
        }
      ]
    },
    {
      "cell_type": "markdown",
      "source": [
        "### 2. Converting Categorical Labels into a Numerical Format"
      ],
      "metadata": {
        "id": "hmkgc9gs4ZSL"
      }
    },
    {
      "cell_type": "code",
      "source": [
        "\n",
        "# Convert categorical labels (e.g., 'gender') to numerical format\n",
        "indexer = StringIndexer(inputCol=\"gender\", outputCol=\"gender_indexed\")\n",
        "df = indexer.fit(df).transform(df)\n",
        "\n",
        "\n",
        "indexer = StringIndexer(inputCol=\"smoking_history\", outputCol=\"smoking_indexed\")\n",
        "df = indexer.fit(df).transform(df)\n",
        "\n",
        "# Show the transformed DataFrame\n",
        "print(df.select(\"smoking_indexed\").distinct().collect())\n",
        "df.select(\"gender_indexed\").distinct().collect()\n"
      ],
      "metadata": {
        "id": "T4zf8hb03zKa",
        "colab": {
          "base_uri": "https://localhost:8080/"
        },
        "outputId": "4cd5fed7-ccb2-4420-e4d9-700659e66bed"
      },
      "execution_count": null,
      "outputs": [
        {
          "output_type": "stream",
          "name": "stdout",
          "text": [
            "[Row(smoking_indexed=0.0), Row(smoking_indexed=1.0), Row(smoking_indexed=4.0), Row(smoking_indexed=3.0), Row(smoking_indexed=2.0), Row(smoking_indexed=5.0)]\n"
          ]
        },
        {
          "output_type": "execute_result",
          "data": {
            "text/plain": [
              "[Row(gender_indexed=0.0), Row(gender_indexed=1.0), Row(gender_indexed=2.0)]"
            ]
          },
          "metadata": {},
          "execution_count": 93
        }
      ]
    },
    {
      "cell_type": "markdown",
      "source": [
        "### 3. Handling Outliers for the 'age' Column"
      ],
      "metadata": {
        "id": "QkqjAI4B4c5G"
      }
    },
    {
      "cell_type": "code",
      "source": [
        "\n",
        "# Ensure 'age' contains only integer values\n",
        "df = df.filter(col(\"age\").cast(\"int\").isNotNull())\n",
        "\n",
        "# Show the count of records after filtering\n",
        "print(f\"Number of records after handling age outliers: {df.count()}\")\n"
      ],
      "metadata": {
        "id": "7rwfGX0_4Nki",
        "colab": {
          "base_uri": "https://localhost:8080/"
        },
        "outputId": "4e1c370c-e226-4583-ab22-f9788ad75959"
      },
      "execution_count": null,
      "outputs": [
        {
          "output_type": "stream",
          "name": "stdout",
          "text": [
            "Number of records after handling age outliers: 96146\n"
          ]
        }
      ]
    },
    {
      "cell_type": "markdown",
      "source": [
        "### 4. Handling Outliers for the 'BMI' Column Using IQR"
      ],
      "metadata": {
        "id": "Sjj-YLOA4g3Y"
      }
    },
    {
      "cell_type": "code",
      "source": [
        "\n",
        "# Calculate Q1 and Q3\n",
        "Q1 = df.approxQuantile(\"bmi\", [0.25], 0.01)[0]\n",
        "Q3 = df.approxQuantile(\"bmi\", [0.75], 0.01)[0]\n",
        "IQR = Q3 - Q1\n",
        "\n",
        "# Calculate outlier boundaries\n",
        "lower_limit = Q1 - 1.5 * IQR\n",
        "upper_limit = Q3 + 1.5 * IQR\n",
        "\n",
        "# Filter rows that are within the acceptable range\n",
        "df = df.filter((col(\"bmi\") >= lower_limit) & (col(\"bmi\") <= upper_limit))\n",
        "\n",
        "# Show the filtered DataFrame\n",
        "df.select(\"bmi\").show(5)"
      ],
      "metadata": {
        "id": "bNoEH4eg4oJ5",
        "colab": {
          "base_uri": "https://localhost:8080/"
        },
        "outputId": "5c9a77ef-2dd3-42eb-b1e1-1d54b4a30a15"
      },
      "execution_count": null,
      "outputs": [
        {
          "output_type": "stream",
          "name": "stdout",
          "text": [
            "+-----+\n",
            "|  bmi|\n",
            "+-----+\n",
            "|27.32|\n",
            "|27.32|\n",
            "| 21.7|\n",
            "|20.47|\n",
            "| 31.4|\n",
            "+-----+\n",
            "only showing top 5 rows\n",
            "\n"
          ]
        }
      ]
    },
    {
      "cell_type": "markdown",
      "source": [
        "### 5. Filtering Rows with Invalid Biological Values"
      ],
      "metadata": {
        "id": "MLNtKZMO4sDi"
      }
    },
    {
      "cell_type": "code",
      "source": [
        "df = df.filter((col(\"age\") > 1) & (col(\"bmi\") > 10) & (col(\"blood_glucose_level\") >= 80))\n",
        "\n",
        "# Show the filtered DataFrame\n",
        "df.select(\"age\", \"bmi\", \"blood_glucose_level\").show(5)"
      ],
      "metadata": {
        "id": "cHx7kK_Q4xwV",
        "colab": {
          "base_uri": "https://localhost:8080/"
        },
        "outputId": "1ac4f2b0-bc2f-4925-d170-10a35679a26c"
      },
      "execution_count": null,
      "outputs": [
        {
          "output_type": "stream",
          "name": "stdout",
          "text": [
            "+----+-----+-------------------+\n",
            "| age|  bmi|blood_glucose_level|\n",
            "+----+-----+-------------------+\n",
            "|21.0|27.32|                126|\n",
            "|26.0|27.32|                100|\n",
            "|49.0| 21.7|                158|\n",
            "|24.0|20.47|                100|\n",
            "|53.0| 31.4|                 85|\n",
            "+----+-----+-------------------+\n",
            "only showing top 5 rows\n",
            "\n"
          ]
        }
      ]
    },
    {
      "cell_type": "markdown",
      "source": [
        "### 6. Checking for Inconsistent Data in Categorical Column"
      ],
      "metadata": {
        "id": "9_DguciE5AQd"
      }
    },
    {
      "cell_type": "code",
      "source": [
        "\n",
        "df = df.withColumn(\"smoking_history\", initcap(col(\"smoking_history\")))\n",
        "\n",
        "# Show the transformed DataFrame\n",
        "df.select(\"smoking_history\").show(5)"
      ],
      "metadata": {
        "id": "CaTT_vHn5A1w",
        "colab": {
          "base_uri": "https://localhost:8080/"
        },
        "outputId": "7007e367-d22f-4fcc-e7d8-e6c56ce538af"
      },
      "execution_count": null,
      "outputs": [
        {
          "output_type": "stream",
          "name": "stdout",
          "text": [
            "+---------------+\n",
            "|smoking_history|\n",
            "+---------------+\n",
            "|          Never|\n",
            "|          Never|\n",
            "|          Never|\n",
            "|         Former|\n",
            "|          Never|\n",
            "+---------------+\n",
            "only showing top 5 rows\n",
            "\n"
          ]
        }
      ]
    },
    {
      "cell_type": "markdown",
      "source": [
        "### 7. Handling missing values"
      ],
      "metadata": {
        "id": "bLE-EXGV5QdV"
      }
    },
    {
      "cell_type": "code",
      "source": [
        "\n",
        "\n",
        "# Calculate the mode of 'smoking_history'\n",
        "mode_value = df.groupBy(\"smoking_history\").count().orderBy(col(\"count\").desc()).first()[0]\n",
        "\n",
        "# Replace 'No info' with the mode value\n",
        "df = df.withColumn(\"smoking_history\", when(col(\"smoking_history\") == \"No info\", lit(mode_value)).otherwise(col(\"smoking_history\")))\n",
        "\n",
        "# Show the modified DataFrame\n",
        "df.select(\"smoking_history\").show(5)"
      ],
      "metadata": {
        "id": "ct38yUiV5AiD",
        "colab": {
          "base_uri": "https://localhost:8080/"
        },
        "outputId": "c86ea7b4-04d6-4cb7-f34c-08949ec9848e"
      },
      "execution_count": null,
      "outputs": [
        {
          "output_type": "stream",
          "name": "stdout",
          "text": [
            "+---------------+\n",
            "|smoking_history|\n",
            "+---------------+\n",
            "|          Never|\n",
            "|          Never|\n",
            "|          Never|\n",
            "|         Former|\n",
            "|          Never|\n",
            "+---------------+\n",
            "only showing top 5 rows\n",
            "\n"
          ]
        }
      ]
    },
    {
      "cell_type": "markdown",
      "source": [
        "### 8. Normalizing values"
      ],
      "metadata": {
        "id": "T-CWZhtd5bHh"
      }
    },
    {
      "cell_type": "code",
      "source": [
        "\n",
        "# Assemble columns into a vector\n",
        "assembler = VectorAssembler(inputCols=[\"blood_glucose_level\", \"HbA1c_level\"], outputCol=\"features\")\n",
        "df = assembler.transform(df)\n",
        "\n",
        "# Apply StandardScaler\n",
        "scaler = StandardScaler(inputCol=\"features\", outputCol=\"scaled_features\", withStd=True, withMean=True)\n",
        "scaler_model = scaler.fit(df)\n",
        "df = scaler_model.transform(df)\n",
        "\n",
        "# Show the scaled features\n",
        "df.select(\"scaled_features\").show(5)"
      ],
      "metadata": {
        "id": "sjxWMsCI5hBM",
        "colab": {
          "base_uri": "https://localhost:8080/"
        },
        "outputId": "95f2069a-c940-48cd-a844-f6e56b950776"
      },
      "execution_count": null,
      "outputs": [
        {
          "output_type": "stream",
          "name": "stdout",
          "text": [
            "+--------------------+\n",
            "|     scaled_features|\n",
            "+--------------------+\n",
            "|[-0.2904463527940...|\n",
            "|[-0.9344938505553...|\n",
            "|[0.50222749060444...|\n",
            "|[-0.9344938505553...|\n",
            "|[-1.3060597146483...|\n",
            "+--------------------+\n",
            "only showing top 5 rows\n",
            "\n"
          ]
        }
      ]
    },
    {
      "cell_type": "markdown",
      "source": [
        "### 9. Dropping Null Values"
      ],
      "metadata": {
        "id": "1ZfZCZJE5mj9"
      }
    },
    {
      "cell_type": "code",
      "source": [
        "# Drop rows with null values\n",
        "df = df.na.drop()\n",
        "\n",
        "# Show the count of records after dropping nulls\n",
        "print(f\"Number of records after dropping nulls: {df.count()}\")"
      ],
      "metadata": {
        "id": "RInWXabq5sfD",
        "colab": {
          "base_uri": "https://localhost:8080/"
        },
        "outputId": "6a44adbe-9df8-47e1-f3b6-4336d3173e87"
      },
      "execution_count": null,
      "outputs": [
        {
          "output_type": "stream",
          "name": "stdout",
          "text": [
            "Number of records after dropping nulls: 89595\n"
          ]
        }
      ]
    },
    {
      "cell_type": "markdown",
      "source": [
        "### 10. Feature Engineering"
      ],
      "metadata": {
        "id": "FRKoofDY5vaW"
      }
    },
    {
      "cell_type": "code",
      "source": [
        "\n",
        "# Define BMI categories\n",
        "df = df.withColumn(\"bmi_category\",\n",
        "                   when((col(\"bmi\") > 0) & (col(\"bmi\") <= 18.5), \"Underweight\")\n",
        "                   .when((col(\"bmi\") > 18.5) & (col(\"bmi\") <= 24.9), \"Normal\")\n",
        "                   .when((col(\"bmi\") > 24.9) & (col(\"bmi\") <= 29.9), \"Overweight\")\n",
        "                   .when((col(\"bmi\") > 29.9), \"Obese\"))\n",
        "\n",
        "# Show the categorized BMI column\n",
        "df.select(\"bmi\", \"bmi_category\").show(5)"
      ],
      "metadata": {
        "id": "FMG6FePn50Tb",
        "colab": {
          "base_uri": "https://localhost:8080/"
        },
        "outputId": "fb5c8670-1594-4a91-8a3a-68032f030422"
      },
      "execution_count": null,
      "outputs": [
        {
          "output_type": "stream",
          "name": "stdout",
          "text": [
            "+-----+------------+\n",
            "|  bmi|bmi_category|\n",
            "+-----+------------+\n",
            "|27.32|  Overweight|\n",
            "|27.32|  Overweight|\n",
            "| 21.7|      Normal|\n",
            "|20.47|      Normal|\n",
            "| 31.4|       Obese|\n",
            "+-----+------------+\n",
            "only showing top 5 rows\n",
            "\n"
          ]
        }
      ]
    },
    {
      "cell_type": "code",
      "source": [
        "print(df)"
      ],
      "metadata": {
        "id": "Do25OFrl57HQ",
        "colab": {
          "base_uri": "https://localhost:8080/"
        },
        "outputId": "02a16512-3145-4148-dfc2-fa085110a009"
      },
      "execution_count": null,
      "outputs": [
        {
          "output_type": "stream",
          "name": "stdout",
          "text": [
            "DataFrame[gender: string, age: double, hypertension: int, heart_disease: int, smoking_history: string, bmi: double, HbA1c_level: double, blood_glucose_level: int, diabetes: int, gender_indexed: double, smoking_indexed: double, features: vector, scaled_features: vector, bmi_category: string]\n"
          ]
        }
      ]
    },
    {
      "cell_type": "markdown",
      "source": [
        "## Algorithms/Visualizations"
      ],
      "metadata": {
        "id": "TK6_gxzxpYOi"
      }
    },
    {
      "cell_type": "markdown",
      "source": [
        "### Splitting the Dataset"
      ],
      "metadata": {
        "id": "Z5QkJoNQqFbR"
      }
    },
    {
      "cell_type": "code",
      "source": [
        "# Selecting final dataset\n",
        "final_data = df.select(col(\"scaled_features\"), col(\"diabetes\").alias(\"label\"))\n",
        "\n",
        "train_data, test_data = final_data.randomSplit([0.8, 0.2], seed=1234)"
      ],
      "metadata": {
        "id": "Ozbemm-TqH_J"
      },
      "execution_count": null,
      "outputs": []
    },
    {
      "cell_type": "markdown",
      "source": [
        "### 1.Logistic Regression"
      ],
      "metadata": {
        "id": "jaUEkXuHphI5"
      }
    },
    {
      "cell_type": "code",
      "source": [
        "# Initializing Logistic Regression model\n",
        "logistic_reg = LogisticRegression(featuresCol=\"scaled_features\", labelCol=\"label\")\n",
        "\n",
        "# Training the model\n",
        "logistic_model = logistic_reg.fit(train_data)\n",
        "\n",
        "# Evaluating on test data\n",
        "predictions = logistic_model.transform(test_data)\n",
        "predictions.select(\"scaled_features\", \"label\", \"prediction\").show()\n"
      ],
      "metadata": {
        "colab": {
          "base_uri": "https://localhost:8080/"
        },
        "id": "FyuYe-fppncC",
        "outputId": "792ff46d-35b1-494d-aab6-e5bebc59d16a"
      },
      "execution_count": null,
      "outputs": [
        {
          "output_type": "stream",
          "name": "stdout",
          "text": [
            "+--------------------+-----+----------+\n",
            "|     scaled_features|label|prediction|\n",
            "+--------------------+-----+----------+\n",
            "|[-1.4299150026794...|    0|       0.0|\n",
            "|[-1.4299150026794...|    0|       0.0|\n",
            "|[-1.4299150026794...|    0|       0.0|\n",
            "|[-1.4299150026794...|    0|       0.0|\n",
            "|[-1.4299150026794...|    0|       0.0|\n",
            "|[-1.4299150026794...|    0|       0.0|\n",
            "|[-1.4299150026794...|    0|       0.0|\n",
            "|[-1.4299150026794...|    0|       0.0|\n",
            "|[-1.4299150026794...|    0|       0.0|\n",
            "|[-1.4299150026794...|    0|       0.0|\n",
            "|[-1.4299150026794...|    0|       0.0|\n",
            "|[-1.4299150026794...|    0|       0.0|\n",
            "|[-1.4299150026794...|    0|       0.0|\n",
            "|[-1.4299150026794...|    0|       0.0|\n",
            "|[-1.4299150026794...|    0|       0.0|\n",
            "|[-1.4299150026794...|    0|       0.0|\n",
            "|[-1.4299150026794...|    0|       0.0|\n",
            "|[-1.4299150026794...|    0|       0.0|\n",
            "|[-1.4299150026794...|    0|       0.0|\n",
            "|[-1.4299150026794...|    0|       0.0|\n",
            "+--------------------+-----+----------+\n",
            "only showing top 20 rows\n",
            "\n"
          ]
        }
      ]
    },
    {
      "cell_type": "markdown",
      "source": [
        "#### Evaluating Model Performance"
      ],
      "metadata": {
        "id": "hRt1jtILtYCN"
      }
    },
    {
      "cell_type": "markdown",
      "source": [
        "#### Accuracy"
      ],
      "metadata": {
        "id": "AWSrC31Gt1DF"
      }
    },
    {
      "cell_type": "code",
      "source": [
        "# Evaluating accuracy\n",
        "evaluator = MulticlassClassificationEvaluator(labelCol=\"label\", predictionCol=\"prediction\", metricName=\"accuracy\")\n",
        "accuracy = evaluator.evaluate(predictions)\n",
        "print(f\"Accuracy: {accuracy}\")"
      ],
      "metadata": {
        "colab": {
          "base_uri": "https://localhost:8080/"
        },
        "id": "5zimPquEttba",
        "outputId": "3af4168c-ca24-4373-cda2-fd4627e24c17"
      },
      "execution_count": null,
      "outputs": [
        {
          "output_type": "stream",
          "name": "stdout",
          "text": [
            "Accuracy: 0.9578343452347797\n"
          ]
        }
      ]
    },
    {
      "cell_type": "markdown",
      "source": [
        "#### Confusion Matrix"
      ],
      "metadata": {
        "id": "2E68cXiwt_ZV"
      }
    },
    {
      "cell_type": "code",
      "source": [
        "# Confusion matrix\n",
        "conf_matrix = predictions.groupBy(\"label\", \"prediction\").count()\n",
        "conf_matrix.show()"
      ],
      "metadata": {
        "colab": {
          "base_uri": "https://localhost:8080/"
        },
        "id": "K1RkWQyQuCxT",
        "outputId": "8d1cd42a-14e8-4e32-abe1-0f215e72ca7b"
      },
      "execution_count": null,
      "outputs": [
        {
          "output_type": "stream",
          "name": "stdout",
          "text": [
            "+-----+----------+-----+\n",
            "|label|prediction|count|\n",
            "+-----+----------+-----+\n",
            "|    1|       0.0|  636|\n",
            "|    0|       0.0|16455|\n",
            "|    1|       1.0|  741|\n",
            "|    0|       1.0|  121|\n",
            "+-----+----------+-----+\n",
            "\n"
          ]
        }
      ]
    },
    {
      "cell_type": "code",
      "source": [
        "conf_matrix_pd = conf_matrix.toPandas().pivot(index='label', columns='prediction', values='count').fillna(0)\n",
        "\n",
        "plt.figure(figsize=(8, 6))\n",
        "sns.heatmap(conf_matrix_pd, annot=True, fmt=\"f\", cmap=\"Blues\")\n",
        "plt.title(\"Confusion Matrix\")\n",
        "plt.xlabel(\"Predicted\")\n",
        "plt.ylabel(\"Actual\")\n",
        "plt.show()\n"
      ],
      "metadata": {
        "colab": {
          "base_uri": "https://localhost:8080/",
          "height": 564
        },
        "id": "U7u38eYtuH5H",
        "outputId": "a65f40f5-fe80-4ef8-e3c3-ac732d2be173"
      },
      "execution_count": null,
      "outputs": [
        {
          "output_type": "display_data",
          "data": {
            "text/plain": [
              "<Figure size 800x600 with 2 Axes>"
            ],
            "image/png": "[encoded data removed]"
          },
          "metadata": {}
        }
      ]
    },
    {
      "cell_type": "markdown",
      "source": [
        "### AUC-ROC"
      ],
      "metadata": {
        "id": "dYMuQwWGwrXX"
      }
    },
    {
      "cell_type": "code",
      "source": [
        "evaluator = BinaryClassificationEvaluator(labelCol=\"label\", metricName=\"areaUnderROC\")\n",
        "auc = evaluator.evaluate(predictions)\n",
        "print(f\"AUC: {auc}\")\n"
      ],
      "metadata": {
        "colab": {
          "base_uri": "https://localhost:8080/"
        },
        "id": "XWRgAxTctMgF",
        "outputId": "56863c74-aa3d-4131-af15-f4c7794ba759"
      },
      "execution_count": null,
      "outputs": [
        {
          "output_type": "stream",
          "name": "stdout",
          "text": [
            "AUC: 0.9279836340191734\n"
          ]
        }
      ]
    },
    {
      "cell_type": "markdown",
      "source": [
        "### 2. Decision Tree"
      ],
      "metadata": {
        "id": "TIq5xv_3szd1"
      }
    },
    {
      "cell_type": "code",
      "source": [
        "\n",
        "# Initializing Decision Tree model\n",
        "decision_tree = DecisionTreeClassifier(featuresCol=\"scaled_features\", labelCol=\"label\")\n",
        "\n",
        "# Training the model\n",
        "dt_model = decision_tree.fit(train_data)\n",
        "\n",
        "# Evaluating on test data\n",
        "predictions = dt_model.transform(test_data)\n",
        "predictions.select(\"scaled_features\", \"label\", \"prediction\").show()\n"
      ],
      "metadata": {
        "colab": {
          "base_uri": "https://localhost:8080/"
        },
        "id": "O2bb3pvLs28p",
        "outputId": "4b7aa45a-0cfe-43b0-e21a-e9847bbd8fb9"
      },
      "execution_count": null,
      "outputs": [
        {
          "output_type": "stream",
          "name": "stdout",
          "text": [
            "+--------------------+-----+----------+\n",
            "|     scaled_features|label|prediction|\n",
            "+--------------------+-----+----------+\n",
            "|[-1.4299150026794...|    0|       0.0|\n",
            "|[-1.4299150026794...|    0|       0.0|\n",
            "|[-1.4299150026794...|    0|       0.0|\n",
            "|[-1.4299150026794...|    0|       0.0|\n",
            "|[-1.4299150026794...|    0|       0.0|\n",
            "|[-1.4299150026794...|    0|       0.0|\n",
            "|[-1.4299150026794...|    0|       0.0|\n",
            "|[-1.4299150026794...|    0|       0.0|\n",
            "|[-1.4299150026794...|    0|       0.0|\n",
            "|[-1.4299150026794...|    0|       0.0|\n",
            "|[-1.4299150026794...|    0|       0.0|\n",
            "|[-1.4299150026794...|    0|       0.0|\n",
            "|[-1.4299150026794...|    0|       0.0|\n",
            "|[-1.4299150026794...|    0|       0.0|\n",
            "|[-1.4299150026794...|    0|       0.0|\n",
            "|[-1.4299150026794...|    0|       0.0|\n",
            "|[-1.4299150026794...|    0|       0.0|\n",
            "|[-1.4299150026794...|    0|       0.0|\n",
            "|[-1.4299150026794...|    0|       0.0|\n",
            "|[-1.4299150026794...|    0|       0.0|\n",
            "+--------------------+-----+----------+\n",
            "only showing top 20 rows\n",
            "\n"
          ]
        }
      ]
    },
    {
      "cell_type": "markdown",
      "source": [
        "#### Evaluating Model Performance"
      ],
      "metadata": {
        "id": "BKKWybQGtgEi"
      }
    },
    {
      "cell_type": "markdown",
      "source": [
        "#### Accuracy"
      ],
      "metadata": {
        "id": "T4CmgC_RwjmX"
      }
    },
    {
      "cell_type": "code",
      "source": [
        "# Evaluating accuracy\n",
        "evaluator = MulticlassClassificationEvaluator(labelCol=\"label\", predictionCol=\"prediction\", metricName=\"accuracy\")\n",
        "accuracy = evaluator.evaluate(predictions)\n",
        "print(f\"Accuracy: {accuracy}\")\n"
      ],
      "metadata": {
        "colab": {
          "base_uri": "https://localhost:8080/"
        },
        "id": "ZcCNhIrowQPJ",
        "outputId": "602c1960-b172-4d22-d0a3-9c024144bd64"
      },
      "execution_count": null,
      "outputs": [
        {
          "output_type": "stream",
          "name": "stdout",
          "text": [
            "Accuracy: 0.9749345513284687\n"
          ]
        }
      ]
    },
    {
      "cell_type": "markdown",
      "source": [
        "### Confusion Matrix"
      ],
      "metadata": {
        "id": "RPpr24MZwlxU"
      }
    },
    {
      "cell_type": "code",
      "source": [
        "# Confusion matrix\n",
        "conf_matrix = predictions.groupBy(\"label\", \"prediction\").count()\n",
        "conf_matrix.show()\n",
        "\n",
        "conf_matrix_pd = conf_matrix.toPandas().pivot(index='label', columns='prediction', values='count').fillna(0)\n",
        "\n",
        "plt.figure(figsize=(8, 6))\n",
        "sns.heatmap(conf_matrix_pd, annot=True, fmt=\"f\", cmap=\"Blues\")\n",
        "plt.title(\"Confusion Matrix\")\n",
        "plt.xlabel(\"Predicted\")\n",
        "plt.ylabel(\"Actual\")\n",
        "plt.show()\n"
      ],
      "metadata": {
        "colab": {
          "base_uri": "https://localhost:8080/",
          "height": 703
        },
        "id": "kqpmj2MHwfqW",
        "outputId": "a0982442-5dcb-4f88-b951-1a05a0b5c286"
      },
      "execution_count": null,
      "outputs": [
        {
          "output_type": "stream",
          "name": "stdout",
          "text": [
            "+-----+----------+-----+\n",
            "|label|prediction|count|\n",
            "+-----+----------+-----+\n",
            "|    1|       0.0|  450|\n",
            "|    0|       0.0|16576|\n",
            "|    1|       1.0|  927|\n",
            "+-----+----------+-----+\n",
            "\n"
          ]
        },
        {
          "output_type": "display_data",
          "data": {
            "text/plain": [
              "<Figure size 800x600 with 2 Axes>"
            ],
            "image/png": "[encoded data removed]"
          },
          "metadata": {}
        }
      ]
    },
    {
      "cell_type": "markdown",
      "source": [
        "#### AUC-ROC"
      ],
      "metadata": {
        "id": "LSR3DnXUwwm_"
      }
    },
    {
      "cell_type": "code",
      "source": [
        "evaluator = BinaryClassificationEvaluator(labelCol=\"label\", metricName=\"areaUnderROC\")\n",
        "auc = evaluator.evaluate(predictions)\n",
        "print(f\"AUC: {auc}\")"
      ],
      "metadata": {
        "colab": {
          "base_uri": "https://localhost:8080/"
        },
        "id": "fCwD5WcltQaG",
        "outputId": "1a011c65-b328-4ecc-a6b3-1d7124f105b9"
      },
      "execution_count": null,
      "outputs": [
        {
          "output_type": "stream",
          "name": "stdout",
          "text": [
            "AUC: 0.6376180101670298\n"
          ]
        }
      ]
    },
    {
      "cell_type": "markdown",
      "source": [
        "### 3. Random Forest"
      ],
      "metadata": {
        "id": "DjXeyfMNs8bA"
      }
    },
    {
      "cell_type": "code",
      "source": [
        "\n",
        "# Initializing Random Forest model\n",
        "random_forest = RandomForestClassifier(featuresCol=\"scaled_features\", labelCol=\"label\", numTrees=10)\n",
        "\n",
        "# Training the model\n",
        "rf_model = random_forest.fit(train_data)\n",
        "\n",
        "# Evaluating on test data\n",
        "predictions = rf_model.transform(test_data)\n",
        "predictions.select(\"scaled_features\", \"label\", \"prediction\").show()\n"
      ],
      "metadata": {
        "colab": {
          "base_uri": "https://localhost:8080/"
        },
        "id": "-TLR4DaUtACx",
        "outputId": "a7903158-0398-447b-a648-9b8077f8d7ae"
      },
      "execution_count": null,
      "outputs": [
        {
          "output_type": "stream",
          "name": "stdout",
          "text": [
            "+--------------------+-----+----------+\n",
            "|     scaled_features|label|prediction|\n",
            "+--------------------+-----+----------+\n",
            "|[-1.4299150026794...|    0|       0.0|\n",
            "|[-1.4299150026794...|    0|       0.0|\n",
            "|[-1.4299150026794...|    0|       0.0|\n",
            "|[-1.4299150026794...|    0|       0.0|\n",
            "|[-1.4299150026794...|    0|       0.0|\n",
            "|[-1.4299150026794...|    0|       0.0|\n",
            "|[-1.4299150026794...|    0|       0.0|\n",
            "|[-1.4299150026794...|    0|       0.0|\n",
            "|[-1.4299150026794...|    0|       0.0|\n",
            "|[-1.4299150026794...|    0|       0.0|\n",
            "|[-1.4299150026794...|    0|       0.0|\n",
            "|[-1.4299150026794...|    0|       0.0|\n",
            "|[-1.4299150026794...|    0|       0.0|\n",
            "|[-1.4299150026794...|    0|       0.0|\n",
            "|[-1.4299150026794...|    0|       0.0|\n",
            "|[-1.4299150026794...|    0|       0.0|\n",
            "|[-1.4299150026794...|    0|       0.0|\n",
            "|[-1.4299150026794...|    0|       0.0|\n",
            "|[-1.4299150026794...|    0|       0.0|\n",
            "|[-1.4299150026794...|    0|       0.0|\n",
            "+--------------------+-----+----------+\n",
            "only showing top 20 rows\n",
            "\n"
          ]
        }
      ]
    },
    {
      "cell_type": "markdown",
      "source": [
        "#### Evaluating Model Performance\n"
      ],
      "metadata": {
        "id": "ZGJiO9wAth2n"
      }
    },
    {
      "cell_type": "markdown",
      "source": [
        "#### Accuracy"
      ],
      "metadata": {
        "id": "_ZVJGXrrw0Tg"
      }
    },
    {
      "cell_type": "code",
      "source": [
        "# Evaluating accuracy\n",
        "evaluator = MulticlassClassificationEvaluator(labelCol=\"label\", predictionCol=\"prediction\", metricName=\"accuracy\")\n",
        "accuracy = evaluator.evaluate(predictions)\n",
        "print(f\"Accuracy: {accuracy}\")"
      ],
      "metadata": {
        "colab": {
          "base_uri": "https://localhost:8080/"
        },
        "id": "vcJX_85kw2U_",
        "outputId": "5ac95142-d901-47c6-e139-b52d0b154884"
      },
      "execution_count": null,
      "outputs": [
        {
          "output_type": "stream",
          "name": "stdout",
          "text": [
            "Accuracy: 0.9749345513284687\n"
          ]
        }
      ]
    },
    {
      "cell_type": "markdown",
      "source": [
        "Confusion Matrix"
      ],
      "metadata": {
        "id": "qAdrGcoZw4hf"
      }
    },
    {
      "cell_type": "code",
      "source": [
        "# Confusion matrix\n",
        "conf_matrix = predictions.groupBy(\"label\", \"prediction\").count()\n",
        "conf_matrix.show()\n",
        "\n",
        "conf_matrix_pd = conf_matrix.toPandas().pivot(index='label', columns='prediction', values='count').fillna(0)\n",
        "\n",
        "plt.figure(figsize=(8, 6))\n",
        "sns.heatmap(conf_matrix_pd, annot=True, fmt=\"f\", cmap=\"Blues\")\n",
        "plt.title(\"Confusion Matrix\")\n",
        "plt.xlabel(\"Predicted\")\n",
        "plt.ylabel(\"Actual\")\n",
        "plt.show()\n"
      ],
      "metadata": {
        "colab": {
          "base_uri": "https://localhost:8080/",
          "height": 703
        },
        "id": "qLy61kpew36K",
        "outputId": "60fa1f79-088b-4b40-8f8f-270e415a03ed"
      },
      "execution_count": null,
      "outputs": [
        {
          "output_type": "stream",
          "name": "stdout",
          "text": [
            "+-----+----------+-----+\n",
            "|label|prediction|count|\n",
            "+-----+----------+-----+\n",
            "|    1|       0.0|  450|\n",
            "|    0|       0.0|16576|\n",
            "|    1|       1.0|  927|\n",
            "+-----+----------+-----+\n",
            "\n"
          ]
        },
        {
          "output_type": "display_data",
          "data": {
            "text/plain": [
              "<Figure size 800x600 with 2 Axes>"
            ],
            "image/png": "[encoded data removed]"
          },
          "metadata": {}
        }
      ]
    },
    {
      "cell_type": "markdown",
      "source": [
        "AUC-ROC"
      ],
      "metadata": {
        "id": "BnQkoVO4w7CV"
      }
    },
    {
      "cell_type": "code",
      "source": [
        "evaluator = BinaryClassificationEvaluator(labelCol=\"label\", metricName=\"areaUnderROC\")\n",
        "auc = evaluator.evaluate(predictions)\n",
        "print(f\"AUC: {auc}\")"
      ],
      "metadata": {
        "colab": {
          "base_uri": "https://localhost:8080/"
        },
        "id": "RKDv7RD_tTm9",
        "outputId": "f2e8f5fc-75dd-4808-8684-734cf4f558e5"
      },
      "execution_count": null,
      "outputs": [
        {
          "output_type": "stream",
          "name": "stdout",
          "text": [
            "AUC: 0.8366013071895425\n"
          ]
        }
      ]
    },
    {
      "cell_type": "markdown",
      "source": [
        "#### Feature Importance"
      ],
      "metadata": {
        "id": "nE4H6sagxHkY"
      }
    },
    {
      "cell_type": "code",
      "source": [
        "# Featuring importance for Random Forest\n",
        "rf_importance = rf_model.featureImportances\n",
        "\n",
        "# Mapping to feature names\n",
        "features = [\"gender_index\", \"age\", \"hypertension\", \"heart_disease\", \"smoking_index\", \"bmi\", \"HbA1c_level\", \"blood_glucose_level\"]\n",
        "importances = list(zip(features, rf_importance.toArray()))\n",
        "\n",
        "# Converting to Pandas for visualization\n",
        "importance_df = pd.DataFrame(importances, columns=[\"Feature\", \"Importance\"]).sort_values(by=\"Importance\", ascending=False)\n",
        "\n",
        "# Plotting feature importances\n",
        "plt.figure(figsize=(10, 6))\n",
        "sns.barplot(x=\"Importance\", y=\"Feature\", data=importance_df, palette=\"viridis\", hue='Feature', legend= False)\n",
        "plt.title(\"Feature Importance\")\n",
        "plt.show()\n"
      ],
      "metadata": {
        "colab": {
          "base_uri": "https://localhost:8080/",
          "height": 564
        },
        "id": "678M6LtzxES1",
        "outputId": "9f7ff663-f435-428a-8dbc-586f1912044e"
      },
      "execution_count": null,
      "outputs": [
        {
          "output_type": "display_data",
          "data": {
            "text/plain": [
              "<Figure size 1000x600 with 1 Axes>"
            ],
            "image/png": "[encoded data removed]"
          },
          "metadata": {}
        }
      ]
    },
    {
      "cell_type": "markdown",
      "source": [
        "SVM"
      ],
      "metadata": {
        "id": "HLpOAQr09CeM"
      }
    },
    {
      "cell_type": "markdown",
      "source": [
        "MODEL AND AUC CURVE"
      ],
      "metadata": {
        "id": "oOQ4jKyz9leY"
      }
    },
    {
      "cell_type": "code",
      "source": [
        "from pyspark.ml.classification import LinearSVC\n",
        "from pyspark.ml.evaluation import BinaryClassificationEvaluator\n",
        "\n",
        "svm = LinearSVC(featuresCol=\"scaled_features\", labelCol=\"diabetes\", predictionCol=\"prediction\", maxIter=10)\n",
        "svm_model = svm.fit(df)\n",
        "svm_predictions = svm_model.transform(df)\n",
        "evaluator = BinaryClassificationEvaluator(labelCol=\"diabetes\", rawPredictionCol=\"rawPrediction\", metricName=\"areaUnderROC\")\n",
        "roc_auc = evaluator.evaluate(svm_predictions)\n",
        "print(f\"AUC: {roc_auc}\")\n",
        "svm_predictions.select(\"diabetes\", \"prediction\").show()\n"
      ],
      "metadata": {
        "colab": {
          "base_uri": "https://localhost:8080/"
        },
        "id": "mUtGV-EUj8Z0",
        "outputId": "612345e0-f8aa-4815-bea5-aa1e25b59570"
      },
      "execution_count": null,
      "outputs": [
        {
          "output_type": "stream",
          "name": "stdout",
          "text": [
            "AUC: 0.9234180566234662\n",
            "+--------+----------+\n",
            "|diabetes|prediction|\n",
            "+--------+----------+\n",
            "|       0|       0.0|\n",
            "|       0|       0.0|\n",
            "|       0|       0.0|\n",
            "|       0|       0.0|\n",
            "|       0|       0.0|\n",
            "|       0|       0.0|\n",
            "|       0|       0.0|\n",
            "|       0|       0.0|\n",
            "|       0|       0.0|\n",
            "|       0|       0.0|\n",
            "|       0|       0.0|\n",
            "|       1|       1.0|\n",
            "|       0|       0.0|\n",
            "|       0|       0.0|\n",
            "|       0|       0.0|\n",
            "|       0|       0.0|\n",
            "|       0|       0.0|\n",
            "|       1|       1.0|\n",
            "|       0|       0.0|\n",
            "|       0|       0.0|\n",
            "+--------+----------+\n",
            "only showing top 20 rows\n",
            "\n"
          ]
        }
      ]
    },
    {
      "cell_type": "code",
      "source": [
        "!pip install pyngrok\n",
        "from pyngrok import ngrok"
      ],
      "metadata": {
        "id": "Y03_KE10gHYD"
      },
      "execution_count": null,
      "outputs": []
    },
    {
      "cell_type": "code",
      "source": [
        "\n",
        "spark_port = spark.conf.get(\"spark.ui.port\", \"4040\")\n",
        "print(f\"Spark UI is running on port: {spark_port}\")\n"
      ],
      "metadata": {
        "colab": {
          "base_uri": "https://localhost:8080/"
        },
        "id": "i8ViqLxBoSFi",
        "outputId": "e016787c-93a0-4873-aa65-e553898bac1f"
      },
      "execution_count": null,
      "outputs": [
        {
          "output_type": "stream",
          "name": "stdout",
          "text": [
            "Spark UI is running on port: 4040\n"
          ]
        }
      ]
    },
    {
      "cell_type": "code",
      "source": [
        "from pyngrok import ngrok\n",
        "\n",
        "ngrok.set_auth_token(\"auth_token\") #Change it using ur credentials\n",
        "public_url = ngrok.connect(4040)\n",
        "\n",
        "print(f\"Spark Web UI is available at: {public_url}\")"
      ],
      "metadata": {
        "colab": {
          "base_uri": "https://localhost:8080/"
        },
        "id": "i_PYQKujoZ2c",
        "outputId": "be42a81d-3201-4755-8e77-67eadf8a805e"
      },
      "execution_count": null,
      "outputs": [
        {
          "output_type": "stream",
          "name": "stdout",
          "text": [
            "Spark Web UI is available at: NgrokTunnel: \"https://075b-34-168-99-4.ngrok-free.app\" -> \"http://localhost:4040\"\n"
          ]
        }
      ]
    },
    {
      "cell_type": "code",
      "source": [
        "!pkill -f ngrok"
      ],
      "metadata": {
        "id": "NUBH0uCqgc1n"
      },
      "execution_count": null,
      "outputs": []
    },
    {
      "cell_type": "markdown",
      "source": [
        "CONFUSION MATRIX"
      ],
      "metadata": {
        "id": "-QH9eykh9sUr"
      }
    },
    {
      "cell_type": "code",
      "source": [
        "import matplotlib.pyplot as plt\n",
        "import numpy as np\n",
        "import seaborn as sns\n",
        "confusion_matrix_values = svm_predictions.groupBy(\"diabetes\", \"prediction\").count()\n",
        "confusion_matrix_dict = {(row[\"diabetes\"], row[\"prediction\"]): row[\"count\"] for row in confusion_matrix_values.collect()}\n",
        "\n",
        "labels = [0, 1]\n",
        "\n",
        "confusion_matrix_array = np.zeros((2, 2))\n",
        "for i in labels:\n",
        "    for j in labels:\n",
        "        confusion_matrix_array[i][j] = confusion_matrix_dict.get((i, j), 0)\n",
        "\n",
        "plt.figure(figsize=(6, 4))\n",
        "sns.heatmap(confusion_matrix_array, annot=True, fmt=\".0f\", cmap=\"Blues\", xticklabels=labels, yticklabels=labels)\n",
        "\n",
        "plt.title(\"Confusion Matrix\")\n",
        "plt.xlabel(\"Predicted Label\")\n",
        "plt.ylabel(\"True Label\")\n",
        "plt.show()\n"
      ],
      "metadata": {
        "colab": {
          "base_uri": "https://localhost:8080/",
          "height": 410
        },
        "id": "S_bi2sy8JASy",
        "outputId": "2bc1c18f-43ab-426b-92df-ff6805adb03f"
      },
      "execution_count": null,
      "outputs": [
        {
          "output_type": "display_data",
          "data": {
            "text/plain": [
              "<Figure size 600x400 with 2 Axes>"
            ],
            "image/png": "[encoded data removed]"
          },
          "metadata": {}
        }
      ]
    },
    {
      "cell_type": "markdown",
      "source": [
        "ACCURACY AND F1-SCORE"
      ],
      "metadata": {
        "id": "RFuRF2lF9vIs"
      }
    },
    {
      "cell_type": "code",
      "source": [
        "from pyspark.sql import functions as F\n",
        "confusion_matrix = svm_predictions.groupBy(\"diabetes\", \"prediction\").count().orderBy(\"diabetes\", \"prediction\")\n",
        "confusion_matrix.show()\n",
        "\n",
        "from pyspark.ml.evaluation import MulticlassClassificationEvaluator\n",
        "\n",
        "accuracy_evaluator = MulticlassClassificationEvaluator(\n",
        "    labelCol=\"diabetes\",\n",
        "    predictionCol=\"prediction\",\n",
        "    metricName=\"accuracy\"\n",
        ")\n",
        "\n",
        "accuracy = accuracy_evaluator.evaluate(svm_predictions)\n",
        "print(f\"Accuracy: {accuracy}\")\n",
        "\n",
        "f1_evaluator = MulticlassClassificationEvaluator(\n",
        "    labelCol=\"diabetes\",\n",
        "    predictionCol=\"prediction\",\n",
        "    metricName=\"f1\"\n",
        ")\n",
        "f1_score = f1_evaluator.evaluate(svm_predictions)\n",
        "print(f\"F1 Score: {f1_score}\")\n"
      ],
      "metadata": {
        "colab": {
          "base_uri": "https://localhost:8080/"
        },
        "id": "Ccf23l4FIHeV",
        "outputId": "9a6f174e-56bd-41f5-aedc-585608b1968e"
      },
      "execution_count": null,
      "outputs": [
        {
          "output_type": "stream",
          "name": "stdout",
          "text": [
            "+--------+----------+-----+\n",
            "|diabetes|prediction|count|\n",
            "+--------+----------+-----+\n",
            "|       0|       0.0|82445|\n",
            "|       1|       0.0| 3875|\n",
            "|       1|       1.0| 3275|\n",
            "+--------+----------+-----+\n",
            "\n",
            "Accuracy: 0.9567498186282717\n",
            "F1 Score: 0.9492082473960428\n"
          ]
        }
      ]
    },
    {
      "cell_type": "markdown",
      "source": [
        "KNN"
      ],
      "metadata": {
        "id": "TWmsYbaf-dtC"
      }
    },
    {
      "cell_type": "code",
      "source": [
        "from pyspark.sql import SparkSession\n",
        "from pyspark.ml.linalg import Vectors, DenseVector\n",
        "from pyspark.sql.functions import col, udf, lit, row_number, count\n",
        "from pyspark.sql.types import FloatType, DoubleType\n",
        "from pyspark.sql import Window\n",
        "from pyspark.ml.evaluation import MulticlassClassificationEvaluator\n",
        "\n",
        "query_point = DenseVector([0.5] * len(df.select(\"scaled_features\").first()[\"scaled_features\"]))\n",
        "\n",
        "def euclidean_distance(v1, query_point):\n",
        "    diff = v1.toArray() - query_point.toArray()\n",
        "    return float((diff @ diff) ** 0.5)\n",
        "\n",
        "distance_udf = udf(lambda v: euclidean_distance(v, query_point), FloatType())\n",
        "\n",
        "df_with_distances = df.withColumn(\n",
        "    \"distance\",\n",
        "    distance_udf(col(\"scaled_features\"))\n",
        ")\n",
        "\n",
        "k = 3\n",
        "window = Window.orderBy(\"distance\")\n",
        "knn_results = df_with_distances.withColumn(\"rank\", row_number().over(window)).filter(col(\"rank\") <= k)\n",
        "knn_prediction = (\n",
        "    knn_results.groupBy(\"diabetes\")\n",
        "    .count()\n",
        "    .orderBy(col(\"count\").desc())\n",
        "    .first()[\"diabetes\"]\n",
        ")\n",
        "\n",
        "df_with_prediction = df_with_distances.withColumn(\"prediction\", lit(knn_prediction))\n",
        "df_with_prediction = df_with_prediction.withColumn(\"prediction\", col(\"prediction\").cast(DoubleType()))\n",
        "df_with_prediction = df_with_prediction.withColumn(\"diabetes\", col(\"diabetes\").cast(DoubleType()))\n",
        "\n",
        "accuracy_evaluator = MulticlassClassificationEvaluator(\n",
        "    labelCol=\"diabetes\",\n",
        "    predictionCol=\"prediction\",\n",
        "    metricName=\"accuracy\"\n",
        ")\n",
        "accuracy = accuracy_evaluator.evaluate(df_with_prediction)\n",
        "print(f\"Accuracy: {accuracy}\")\n",
        "\n",
        "# Precision\n",
        "precision_evaluator = MulticlassClassificationEvaluator(\n",
        "    labelCol=\"diabetes\",\n",
        "    predictionCol=\"prediction\",\n",
        "    metricName=\"weightedPrecision\"\n",
        ")\n",
        "precision = precision_evaluator.evaluate(df_with_prediction)\n",
        "print(f\"Precision: {precision}\")\n",
        "\n",
        "# Recall\n",
        "recall_evaluator = MulticlassClassificationEvaluator(\n",
        "    labelCol=\"diabetes\",\n",
        "    predictionCol=\"prediction\",\n",
        "    metricName=\"weightedRecall\"\n",
        ")\n",
        "recall = recall_evaluator.evaluate(df_with_prediction)\n",
        "print(f\"Recall: {recall}\")\n",
        "\n",
        "# F1 Score\n",
        "f1_evaluator = MulticlassClassificationEvaluator(\n",
        "    labelCol=\"diabetes\",\n",
        "    predictionCol=\"prediction\",\n",
        "    metricName=\"f1\"\n",
        ")\n",
        "f1_score = f1_evaluator.evaluate(df_with_prediction)\n",
        "print(f\"F1 Score: {f1_score}\")\n"
      ],
      "metadata": {
        "colab": {
          "base_uri": "https://localhost:8080/"
        },
        "id": "Yf35JoEJM9Xh",
        "outputId": "81e883e1-c1f5-44ef-86fd-6d365ec0427d"
      },
      "execution_count": null,
      "outputs": [
        {
          "output_type": "stream",
          "name": "stdout",
          "text": [
            "Accuracy: 0.9201964395334561\n",
            "Precision: 0.8467614873300495\n",
            "Recall: 0.9201964395334561\n",
            "F1 Score: 0.8819529813687025\n"
          ]
        }
      ]
    },
    {
      "cell_type": "code",
      "source": [
        "!pip install pyngrok\n",
        "from pyngrok import ngrok"
      ],
      "metadata": {
        "id": "oRZuGmG3iAfk"
      },
      "execution_count": null,
      "outputs": []
    },
    {
      "cell_type": "code",
      "source": [
        "spark_port = spark.conf.get(\"spark.ui.port\", \"4040\")\n",
        "print(f\"Spark UI is running on port: {spark_port}\")\n"
      ],
      "metadata": {
        "colab": {
          "base_uri": "https://localhost:8080/"
        },
        "outputId": "e016787c-93a0-4873-aa65-e553898bac1f",
        "id": "rrOmTF5iiEjr"
      },
      "execution_count": null,
      "outputs": [
        {
          "output_type": "stream",
          "name": "stdout",
          "text": [
            "Spark UI is running on port: 4040\n"
          ]
        }
      ]
    },
    {
      "cell_type": "code",
      "source": [
        "from pyngrok import ngrok\n",
        "\n",
        "ngrok.set_auth_token(\"auth_token\") #Change it using ur credentials\n",
        "public_url = ngrok.connect(4040)\n",
        "\n",
        "print(f\"Spark Web UI is available at: {public_url}\")"
      ],
      "metadata": {
        "colab": {
          "base_uri": "https://localhost:8080/"
        },
        "outputId": "be42a81d-3201-4755-8e77-67eadf8a805e",
        "id": "QcVnPLc9iKpf"
      },
      "execution_count": null,
      "outputs": [
        {
          "output_type": "stream",
          "name": "stdout",
          "text": [
            "Spark Web UI is available at: NgrokTunnel: \"https://075b-34-168-99-4.ngrok-free.app\" -> \"http://localhost:4040\"\n"
          ]
        }
      ]
    },
    {
      "cell_type": "code",
      "source": [
        "!pkill -f ngrok"
      ],
      "metadata": {
        "id": "IkzT6xzWiGd8"
      },
      "execution_count": null,
      "outputs": []
    },
    {
      "cell_type": "markdown",
      "source": [
        "EVALUATION METRICS"
      ],
      "metadata": {
        "id": "eDDHixBT-rh_"
      }
    },
    {
      "cell_type": "code",
      "source": [
        "metrics_df = df_with_prediction.withColumn(\n",
        "    \"tp\", when((col(\"diabetes\") == 1) & (col(\"prediction\") == 1), 1).otherwise(0)\n",
        ").withColumn(\n",
        "    \"fp\", when((col(\"diabetes\") == 0) & (col(\"prediction\") == 1), 1).otherwise(0)\n",
        ").withColumn(\n",
        "    \"fn\", when((col(\"diabetes\") == 1) & (col(\"prediction\") == 0), 1).otherwise(0)\n",
        ").withColumn(\n",
        "    \"tn\", when((col(\"diabetes\") == 0) & (col(\"prediction\") == 0), 1).otherwise(0)\n",
        ")\n",
        "\n",
        "# Aggregate metrics for each class\n",
        "class_metrics = metrics_df.groupBy(\"diabetes\").agg(\n",
        "    count(\"tp\").alias(\"tp\"),\n",
        "    count(\"fp\").alias(\"fp\"),\n",
        "    count(\"fn\").alias(\"fn\"),\n",
        "    count(\"tn\").alias(\"tn\")\n",
        ")\n",
        "\n",
        "# Calculate precision and recall for each class\n",
        "class_metrics = class_metrics.withColumn(\n",
        "    \"precision\", col(\"tp\") / (col(\"tp\") + col(\"fp\"))\n",
        ").withColumn(\n",
        "    \"recall\", col(\"tp\") / (col(\"tp\") + col(\"fn\"))\n",
        ")\n",
        "\n",
        "# Show class-wise precision and recall\n",
        "class_metrics.select(\"diabetes\", \"precision\", \"recall\").show()\n"
      ],
      "metadata": {
        "colab": {
          "base_uri": "https://localhost:8080/"
        },
        "id": "CyUg5jCoNnI4",
        "outputId": "fa513803-3f5b-4941-bd2b-df173f381c78"
      },
      "execution_count": null,
      "outputs": [
        {
          "output_type": "stream",
          "name": "stdout",
          "text": [
            "+--------+---------+------+\n",
            "|diabetes|precision|recall|\n",
            "+--------+---------+------+\n",
            "|     0.0|      0.5|   0.5|\n",
            "|     1.0|      0.5|   0.5|\n",
            "+--------+---------+------+\n",
            "\n"
          ]
        }
      ]
    },
    {
      "cell_type": "markdown",
      "source": [
        "AUC"
      ],
      "metadata": {
        "id": "I7UBCrf1-p-R"
      }
    },
    {
      "cell_type": "code",
      "source": [
        "from pyspark.ml.evaluation import BinaryClassificationEvaluator\n",
        "\n",
        "evaluator = BinaryClassificationEvaluator(labelCol=\"label\", rawPredictionCol=\"prediction\", metricName=\"areaUnderROC\")\n",
        "auc = evaluator.evaluate(df_with_prediction)\n",
        "print(f\"AUC: {auc}\")\n"
      ],
      "metadata": {
        "colab": {
          "base_uri": "https://localhost:8080/"
        },
        "id": "Trk5fgvq1Hw2",
        "outputId": "6abc75d9-b5f1-42de-ad52-f11f353522e0"
      },
      "execution_count": null,
      "outputs": [
        {
          "output_type": "stream",
          "name": "stdout",
          "text": [
            "AUC: 0.5\n"
          ]
        }
      ]
    },
    {
      "cell_type": "markdown",
      "source": [
        "NAIVE BAYES"
      ],
      "metadata": {
        "id": "WgHsBBaI44i_"
      }
    },
    {
      "source": [
        "from pyspark.sql import SparkSession\n",
        "from pyspark.ml.feature import VectorAssembler\n",
        "from pyspark.ml.classification import NaiveBayes\n",
        "from pyspark.ml.evaluation import MulticlassClassificationEvaluator\n",
        "import matplotlib.pyplot as plt\n",
        "import seaborn as sns\n",
        "\n",
        "spark = SparkSession.builder.appName(\"NaiveBayes\").getOrCreate()\n",
        "\n",
        "from pyspark.ml.feature import StringIndexer, VectorAssembler, OneHotEncoder\n",
        "from pyspark.ml import Pipeline\n",
        "\n",
        "gender_indexer = StringIndexer(inputCol=\"gender\", outputCol=\"gender_index\")\n",
        "smoking_history_indexer = StringIndexer(inputCol=\"smoking_history\", outputCol=\"smoking_history_index\")\n",
        "bmi_category_indexer = StringIndexer(inputCol=\"bmi_category\", outputCol=\"bmi_category_index\")\n",
        "gender_encoder = OneHotEncoder(inputCol=\"gender_index\", outputCol=\"gender_vector\")\n",
        "smoking_history_encoder = OneHotEncoder(inputCol=\"smoking_history_index\", outputCol=\"smoking_history_vector\")\n",
        "bmi_category_encoder = OneHotEncoder(inputCol=\"bmi_category_index\", outputCol=\"bmi_category_vector\")\n",
        "\n",
        "assembler = VectorAssembler(\n",
        "    inputCols=[\"age\", \"hypertension\", \"heart_disease\", \"bmi\", \"HbA1c_level\",\n",
        "               \"blood_glucose_level\", \"gender_vector\", \"smoking_history_vector\", \"bmi_category_vector\"],\n",
        "    outputCol=\"assembled_features\"\n",
        ")\n",
        "\n",
        "\n",
        "pipeline = Pipeline(stages=[\n",
        "    gender_indexer, smoking_history_indexer, bmi_category_indexer,\n",
        "    gender_encoder, smoking_history_encoder, bmi_category_encoder,\n",
        "    assembler\n",
        "])\n",
        "\n",
        "processed_data = pipeline.fit(df).transform(df)\n",
        "\n",
        "data = processed_data.select(\"assembled_features\", \"diabetes\").withColumnRenamed(\"assembled_features\", \"features\").withColumnRenamed(\"diabetes\", \"label\")\n",
        "\n",
        "train_data, test_data = data.randomSplit([0.8, 0.2], seed=42)\n",
        "\n",
        "nb = NaiveBayes(labelCol=\"label\", featuresCol=\"features\", modelType=\"multinomial\")\n",
        "model = nb.fit(train_data)\n",
        "predictions = model.transform(test_data)"
      ],
      "cell_type": "code",
      "metadata": {
        "id": "rgridf3g1ccQ"
      },
      "execution_count": null,
      "outputs": []
    },
    {
      "cell_type": "code",
      "source": [
        "!pip install pyngrok\n",
        "from pyngrok import ngrok"
      ],
      "metadata": {
        "colab": {
          "base_uri": "https://localhost:8080/"
        },
        "id": "P6039Q521rYQ",
        "outputId": "abb4ef2d-4cb4-4c1a-cb5d-1cc30bd7dadf"
      },
      "execution_count": null,
      "outputs": [
        {
          "output_type": "stream",
          "name": "stdout",
          "text": [
            "Collecting pyngrok\n",
            "  Downloading pyngrok-7.2.1-py3-none-any.whl.metadata (8.3 kB)\n",
            "Requirement already satisfied: PyYAML>=5.1 in /usr/local/lib/python3.10/dist-packages (from pyngrok) (6.0.2)\n",
            "Downloading pyngrok-7.2.1-py3-none-any.whl (22 kB)\n",
            "Installing collected packages: pyngrok\n",
            "Successfully installed pyngrok-7.2.1\n"
          ]
        }
      ]
    },
    {
      "cell_type": "code",
      "source": [
        "# Check Spark Web UI port\n",
        "spark_port = spark.conf.get(\"spark.ui.port\", \"4040\")\n",
        "print(f\"Spark UI is running on port: {spark_port}\")\n"
      ],
      "metadata": {
        "colab": {
          "base_uri": "https://localhost:8080/"
        },
        "id": "paoX805I1ukR",
        "outputId": "e6f358f7-97ef-4a7f-e67c-06b6468ffb64"
      },
      "execution_count": null,
      "outputs": [
        {
          "output_type": "stream",
          "name": "stdout",
          "text": [
            "Spark UI is running on port: 4040\n"
          ]
        }
      ]
    },
    {
      "cell_type": "code",
      "source": [
        "from pyngrok import ngrok\n",
        "\n",
        "ngrok.set_auth_token(\"AUTH_TOKEN\")\n",
        "public_url = ngrok.connect(4040)\n",
        "\n",
        "print(f\"Spark Web UI is available at: {public_url}\")"
      ],
      "metadata": {
        "colab": {
          "base_uri": "https://localhost:8080/"
        },
        "id": "zWahzxLX1zZz",
        "outputId": "b8e94d38-4376-4ada-db5f-0197b06ae0d0"
      },
      "execution_count": null,
      "outputs": [
        {
          "output_type": "stream",
          "name": "stdout",
          "text": []
        },
        {
          "output_type": "stream",
          "name": "stderr",
          "text": [
            "WARNING:pyngrok.process.ngrok:t=2024-11-25T15:01:36+0000 lvl=warn msg=\"can't bind default web address, trying alternatives\" obj=web addr=127.0.0.1:4040\n"
          ]
        },
        {
          "output_type": "stream",
          "name": "stdout",
          "text": [
            "Spark Web UI is available at: NgrokTunnel: \"https://ad58-34-16-145-224.ngrok-free.app\" -> \"http://localhost:4040\"\n"
          ]
        }
      ]
    },
    {
      "cell_type": "code",
      "source": [
        "\n",
        "accuracy_evaluator = MulticlassClassificationEvaluator(\n",
        "    labelCol=\"label\",\n",
        "    predictionCol=\"prediction\",\n",
        "    metricName=\"accuracy\"\n",
        ")\n",
        "accuracy = accuracy_evaluator.evaluate(predictions)\n",
        "print(f\"Accuracy: {accuracy}\")\n",
        "\n",
        "f1_evaluator = MulticlassClassificationEvaluator(\n",
        "    labelCol=\"label\",\n",
        "    predictionCol=\"prediction\",\n",
        "    metricName=\"f1\"\n",
        ")\n",
        "f1_score = f1_evaluator.evaluate(predictions)\n",
        "print(f\"F1 Score: {f1_score}\")\n",
        "\n",
        "conf_matrix = predictions.groupBy(\"label\", \"prediction\").count()\n",
        "\n",
        "conf_matrix_pd = conf_matrix.toPandas().pivot(index=\"label\", columns=\"prediction\", values=\"count\").fillna(0)\n",
        "\n",
        "plt.figure(figsize=(8, 6))\n",
        "sns.heatmap(conf_matrix_pd, annot=True, fmt=\"d\", cmap=\"Blues\")\n",
        "plt.title(\"Confusion Matrix\")\n",
        "plt.xlabel(\"Predicted\")\n",
        "plt.ylabel(\"Actual\")\n",
        "plt.show()\n"
      ],
      "metadata": {
        "colab": {
          "base_uri": "https://localhost:8080/",
          "height": 598
        },
        "id": "rBYdSlV-0HPU",
        "outputId": "ef126598-65f5-493c-b2a1-c59854236cf7"
      },
      "execution_count": null,
      "outputs": [
        {
          "output_type": "stream",
          "name": "stdout",
          "text": [
            "Accuracy: 0.9177144140098787\n",
            "F1 Score: 0.9141169998009271\n"
          ]
        },
        {
          "output_type": "display_data",
          "data": {
            "text/plain": [
              "<Figure size 800x600 with 2 Axes>"
            ],
            "image/png": "[encoded data removed]"
          },
          "metadata": {}
        }
      ]
    }
  ]
}